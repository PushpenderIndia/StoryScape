{
  "cells": [
    {
      "cell_type": "code",
      "execution_count": 19,
      "metadata": {
        "id": "CnzXHJirbnVs"
      },
      "outputs": [],
      "source": [
        "user_input = \"Funny Cindralla story in Disney Princes style\""
      ]
    },
    {
      "cell_type": "code",
      "execution_count": 12,
      "metadata": {
        "colab": {
          "base_uri": "https://localhost:8080/"
        },
        "id": "e2UbYeA1InR5",
        "outputId": "78917f64-451f-4d42-8952-a26e78a83622"
      },
      "outputs": [
        {
          "name": "stdout",
          "output_type": "stream",
          "text": [
            " Scene 1: Introduction\n",
            "Cindy: Hi there! I'm Cinderella. Nice to meet you, Disneyland princes.\n",
            "Prince Charming: Greetings, Cindy. You look lovely today.\n",
            "Gaston: Howdy, girlie. Care for a dance?\n",
            "\n",
            "Scene 2: A Dance Invitation\n",
            "Cindy: Thank you, but I don't dance with strangers.\n",
            "Gaston: Come on, it'll be fun! We'll show you the best moves.\n",
            "Prince Charming: I promise to protect your feet if they hurt.\n",
            "\n",
            "Scene 3: A Magic Ball Appears\n",
            "Cinderella: Wait, what happened? There's a dancing ball now.\n",
            "Gaston: Looks like magic from our fairy godmothers.\n",
            "Cindy: But who invited the ball?\n",
            "Prince Charming: It might be a chance for us to get to know you better.\n",
            "\n",
            "Scene 4: The First Dance\n",
            "(During the dance)\n",
            "Cinderella: I feel awkward here, but I guess this is fun.\n",
            "Gaston: Don't worry, we'll help you have a blast.\n",
            "Prince Charming: We could use some music to liven up the mood.\n",
            "Cindy: Yeah, let's make the ball livelier.\n",
            "(The music starts playing)\n",
            "\n",
            "Scene 5: The Ball Turns Magical\n",
            "(During the dance)\n",
            "Gaston: This is amazing! Look at those dazzling colors.\n",
            "Prince Charming: It feels like a magical wonderland now.\n",
            "Cindy: I love how all of you are enjoying yourselves.\n",
            "Cinderella: Thanks for helping me join in. You're great friends.\n",
            "\n",
            "Scene 6: The End\n",
            "(After the ball)\n",
            "Gaston and Prince Charming: Thank you for spending time with us, Cindy.\n",
            "Cinderella: It was a delightful evening! I had so much fun with you two.\n",
            "(Waving goodbye)\n",
            "Cinderella: Goodnight, my new friends! See you around.\n",
            "Gaston and Prince Charming: Good night, Cindy. We'll look forward to our next adventure together.\n"
          ]
        }
      ],
      "source": [
        "import requests\n",
        "import json\n",
        "\n",
        "url = 'https://049e-146-152-233-52.ngrok-free.app/api/generate'\n",
        "\n",
        "initial_prompt = \"Convert the following boring text into a comic style conversation between characters while retaining information. Try to keep the characters as people from the story. Make 6 scenes comic. Keep a line break after each dialogue and don't include words like Scene 1, narration context and scenes etc. Keep the name of the character and not character number: \\n\\n\\n\"\n",
        "prompt = initial_prompt + user_input\n",
        "\n",
        "payload = {\n",
        "    \"model\": \"neural-chat\",\n",
        "    \"prompt\": prompt,\n",
        "    \"stream\": False\n",
        "}\n",
        "headers = {'Content-Type': 'application/json'}\n",
        "\n",
        "response1 = requests.post(url, data=json.dumps(payload), headers=headers)\n",
        "\n",
        "print(response1.json()[\"response\"])"
      ]
    },
    {
      "cell_type": "code",
      "execution_count": 17,
      "metadata": {
        "id": "dAGq0SvRJtpH"
      },
      "outputs": [],
      "source": [
        "def convert_text_to_conversation():\n",
        "        try:\n",
        "            response = response1.json()[\"response\"]\n",
        "            # print(response)\n",
        "            speech, person = generate_map_from_text(response)\n",
        "            print(\"Speech: \", speech)\n",
        "            print(\"Person: \", person)\n",
        "        except Exception as e:\n",
        "            print(\"Error: \", e)\n",
        "\n",
        "def generate_map_from_text(text):\n",
        "    try:\n",
        "        d = {}\n",
        "        who_spoke = {}\n",
        "        dialogue = []\n",
        "        speak = []\n",
        "\n",
        "        l = text.split(\"\\n\")\n",
        "\n",
        "        for word in l:\n",
        "            i = 0\n",
        "            if 'Scene' not in word and 'Act' not in word:\n",
        "                if ':' in word:\n",
        "                    dialogue.append((word.split(':')[1]))\n",
        "                    speak.append((word.split(':')[0]))\n",
        "\n",
        "            for i in range(len(dialogue)):\n",
        "                d[i] = dialogue[i]\n",
        "                who_spoke[i] = speak[i]\n",
        "\n",
        "        return (d, who_spoke)\n",
        "    except Exception as e:\n",
        "        raise Exception(f\"Error occurred during map generation: {e}\")"
      ]
    },
    {
      "cell_type": "code",
      "execution_count": 18,
      "metadata": {
        "colab": {
          "base_uri": "https://localhost:8080/"
        },
        "id": "zHY2bh9cXpWr",
        "outputId": "611d3603-a6bc-4ac2-bd5f-2517088bdfc2"
      },
      "outputs": [
        {
          "name": "stdout",
          "output_type": "stream",
          "text": [
            "Speech:  {0: \" Hi there! I'm Cinderella. Nice to meet you, Disneyland princes.\", 1: ' Greetings, Cindy. You look lovely today.', 2: ' Howdy, girlie. Care for a dance?', 3: \" Thank you, but I don't dance with strangers.\", 4: \" Come on, it'll be fun! We'll show you the best moves.\", 5: ' I promise to protect your feet if they hurt.', 6: \" Wait, what happened? There's a dancing ball now.\", 7: ' Looks like magic from our fairy godmothers.', 8: ' But who invited the ball?', 9: ' It might be a chance for us to get to know you better.', 10: ' I feel awkward here, but I guess this is fun.', 11: \" Don't worry, we'll help you have a blast.\", 12: ' We could use some music to liven up the mood.', 13: \" Yeah, let's make the ball livelier.\", 14: ' This is amazing! Look at those dazzling colors.', 15: ' It feels like a magical wonderland now.', 16: ' I love how all of you are enjoying yourselves.', 17: \" Thanks for helping me join in. You're great friends.\", 18: ' Thank you for spending time with us, Cindy.', 19: ' It was a delightful evening! I had so much fun with you two.', 20: ' Goodnight, my new friends! See you around.', 21: \" Good night, Cindy. We'll look forward to our next adventure together.\"}\n",
            "Person:  {0: 'Cindy', 1: 'Prince Charming', 2: 'Gaston', 3: 'Cindy', 4: 'Gaston', 5: 'Prince Charming', 6: 'Cinderella', 7: 'Gaston', 8: 'Cindy', 9: 'Prince Charming', 10: 'Cinderella', 11: 'Gaston', 12: 'Prince Charming', 13: 'Cindy', 14: 'Gaston', 15: 'Prince Charming', 16: 'Cindy', 17: 'Cinderella', 18: 'Gaston and Prince Charming', 19: 'Cinderella', 20: 'Cinderella', 21: 'Gaston and Prince Charming'}\n"
          ]
        }
      ],
      "source": [
        "convert_text_to_conversation()"
      ]
    },
    {
      "cell_type": "code",
      "execution_count": null,
      "metadata": {
        "id": "JAylHbPEYR4h"
      },
      "outputs": [],
      "source": []
    }
  ],
  "metadata": {
    "colab": {
      "provenance": []
    },
    "kernelspec": {
      "display_name": "Python 3",
      "name": "python3"
    },
    "language_info": {
      "name": "python"
    }
  },
  "nbformat": 4,
  "nbformat_minor": 0
}
